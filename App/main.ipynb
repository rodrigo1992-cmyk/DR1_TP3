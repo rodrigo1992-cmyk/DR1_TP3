{
 "cells": [
  {
   "cell_type": "markdown",
   "metadata": {},
   "source": []
  },
  {
   "cell_type": "markdown",
   "metadata": {},
   "source": [
    "streamlit run app.py --server.port=8086 --browser.serverAddress='177.192.12.238'"
   ]
  },
  {
   "cell_type": "markdown",
   "metadata": {},
   "source": [
    "### 1. Explicação do Objetivo e Motivação:\n",
    "Explique o objetivo do dashboard que você está desenvolvendo e a motivação por trás da escolha dos dados e funcionalidades que serão implementados."
   ]
  },
  {
   "cell_type": "markdown",
   "metadata": {},
   "source": [
    "Base: Chegada mensal de turistas pelo Rio de Janeiro, por via Aérea, segundo continentes e países de residência permanente, entre 2006-2019\n",
    "Disponível em: https://www.data.rio/documents/a6c6c3ff7d1947a99648494e0745046d/about\n",
    "\n",
    "- Objetivo: Apresentar a dados de turismo no Rio de Janeiro.\n",
    "- Motivador: Conseguir identificar o crescimento ou redução da quantidade de turistas de acordo com o país de origem.\n",
    "- Funcionalidades: \n",
    "    - Filtros por período, continente e país\n",
    "    - Gráfico de linha exibindo tendências\n",
    "    - Gráfico de pizza com número de turistas por continente\n",
    "    - Gráfico de pareto com número absoluto de turistas por país\n",
    "    - Histograma por mês\n",
    "    - Mapa de calor por mês e país\n",
    "    - Mapa de rotas"
   ]
  },
  {
   "cell_type": "markdown",
   "metadata": {},
   "source": [
    "### 2. Realizar Upload de Arquivo CSV:\n",
    "Crie uma interface em Streamlit que permita ao usuário fazer o upload de um arquivo CSV contendo dados de turismo do portal Data.Rio."
   ]
  },
  {
   "cell_type": "code",
   "execution_count": 221,
   "metadata": {},
   "outputs": [
    {
     "name": "stdout",
     "output_type": "stream",
     "text": [
      "Overwriting app.py\n"
     ]
    }
   ],
   "source": [
    "%%writefile app.py\n",
    "\n",
    "import pandas as pd\n",
    "import streamlit as st\n",
    "import regex as re\n",
    "\n",
    "df = pd.DataFrame()\n",
    "files = st.file_uploader('Upload', type='csv', accept_multiple_files=True)\n",
    "\n",
    "list_continentes = ['África','América Central','América do Norte', 'América do Sul', 'Ásia', 'Europa', 'Oriente Médio', 'Oceania']\n",
    "\n",
    "\n",
    "if files != []:\n",
    "    for file in files:\n",
    "        data = pd.read_csv(file)\n",
    "        #Primeiro obtive a identificação do ano, que está dentro de uma frase na terceira linha\n",
    "        line = data.iloc[1][0]\n",
    "        #Utilizo Regex para extrair o ano\n",
    "        Ano = re.findall(r'\\b(20[0-9][0-9])\\b', line)[0]   \n",
    "        #Depois trato o restante do arquivo para ficar no formato desejado    \n",
    "        data = data.iloc[4:]\n",
    "        data.iloc[0][0] = 'Pais'\n",
    "        data.columns = data.iloc[0]\n",
    "        data = data.drop(data.index[0])\n",
    "        data = data.dropna()\n",
    "        #Retiro a coluna e a linha de total\n",
    "        data = data[data['Pais'] != 'Total']\n",
    "        data = data.drop(columns='Total')\n",
    "        data['Ano'] = Ano\n",
    "\n",
    "        #Utilizei IA para criar a função que identifica o continente (Ps: Estou com muita dificuldade para criar funções lambda)\n",
    "        data['Continente'] = data['Pais'].apply(\n",
    "            lambda line: next((pais for pais in list_continentes if pais in line), None)\n",
    "        )\n",
    "        data['Continente'] = data['Continente'].fillna(method='ffill')\n",
    "\n",
    "        #Por fim, retiro as linhas que contém o total de cada continente, deixando apenas os países\n",
    "        data = data[~data['Pais'].isin(list_continentes)]\n",
    "\n",
    "        #Concateno em um dataframe, pois assim permito que o usuário faça a importação de diversos CSVs, um para cada ano\n",
    "        df = pd.concat([df, data])\n",
    "\n",
    "    st.write(df)"
   ]
  },
  {
   "cell_type": "markdown",
   "metadata": {},
   "source": [
    "### 3. Filtro de Dados e Seleção:\n",
    "Implemente seletores (radio, checkbox, dropdowns) na interface que permitam ao usuário filtrar os dados carregados e selecionar as colunas ou linhas que deseja visualizar."
   ]
  },
  {
   "cell_type": "code",
   "execution_count": 238,
   "metadata": {},
   "outputs": [
    {
     "name": "stdout",
     "output_type": "stream",
     "text": [
      "Overwriting app.py\n"
     ]
    }
   ],
   "source": [
    "%%writefile app.py\n",
    "\n",
    "import pandas as pd\n",
    "import streamlit as st\n",
    "import regex as re\n",
    "\n",
    "df = pd.DataFrame()\n",
    "files = st.file_uploader('Upload', type='csv', accept_multiple_files=True)\n",
    "\n",
    "list_continentes = ['África','América Central','América do Norte', 'América do Sul', 'Ásia', 'Europa', 'Oriente Médio', 'Oceania']\n",
    "\n",
    "\n",
    "if files != []:\n",
    "    for file in files:\n",
    "        data = pd.read_csv(file)\n",
    "        #Primeiro obtive a identificação do ano, que está dentro de uma frase na terceira linha\n",
    "        line = data.iloc[1][0]\n",
    "        #Utilizo Regex para extrair o ano\n",
    "        Ano = re.findall(r'\\b(20[0-9][0-9])\\b', line)[0]   \n",
    "        #Depois trato o restante do arquivo para ficar no formato desejado    \n",
    "        data = data.iloc[4:]\n",
    "        data.iloc[0][0] = 'Pais'\n",
    "        data.columns = data.iloc[0]\n",
    "        data = data.drop(data.index[0])\n",
    "        data = data.dropna()\n",
    "        #Retiro a coluna e a linha de total\n",
    "        data = data[data['Pais'] != 'Total']\n",
    "        data = data.drop(columns='Total')\n",
    "        data['Ano'] = Ano\n",
    "\n",
    "        #Utilizei IA para criar a função que identifica o continente (Ps: Estou com muita dificuldade para criar funções lambda)\n",
    "        data['Continente'] = data['Pais'].apply(\n",
    "            lambda line: next((pais for pais in list_continentes if pais in line), None)\n",
    "        )\n",
    "        data['Continente'] = data['Continente'].fillna(method='ffill')\n",
    "\n",
    "        #Por fim, retiro as linhas que contém o total de cada continente, deixando apenas os países\n",
    "        data = data[~data['Pais'].isin(list_continentes)]\n",
    "\n",
    "        data = data.melt(id_vars=['Continente', 'Pais', 'Ano'], var_name='Mes', value_name='Qtd')\n",
    "\n",
    "        #Concateno em um dataframe, pois assim permito que o usuário faça a importação de diversos CSVs, um para cada ano\n",
    "        df = pd.concat([df, data])\n",
    "\n",
    "    #Crio a lista de continentes\n",
    "    list_cont = df['Continente'].drop_duplicates().tolist()\n",
    "    list_cont.append('Todos')\n",
    "\n",
    "    #Pego o id da opção \"Todos\"\n",
    "    default_cont = list_cont.index('Todos')\n",
    "\n",
    "    #Crio o filtro de continentes\n",
    "    filter_cont = st.selectbox('Filtrar Continentes', list_cont, index=default_cont)\n",
    "\n",
    "    #Aplico a condição para só filtrar se houver seleção\n",
    "    if filter_cont != 'Todos':\n",
    "        df = df.loc[df['Continente'] == filter_cont]\n",
    "\n",
    "    #Crio o filtro de colunas\n",
    "    list_colunas = st.multiselect('Selecione as colunas', df.columns, df.columns)\n",
    "    #Aplico o filtro\n",
    "    df = df[list_colunas]\n",
    "\n",
    "    st.write(df) \n",
    "    \n"
   ]
  },
  {
   "cell_type": "markdown",
   "metadata": {},
   "source": [
    "### 4. Desenvolver Serviço de Download de Arquivos:\n",
    "Implemente um serviço que permita ao usuário fazer o download dos dados filtrados em formato CSV diretamente pela interface da aplicação."
   ]
  },
  {
   "cell_type": "code",
   "execution_count": 239,
   "metadata": {},
   "outputs": [
    {
     "name": "stdout",
     "output_type": "stream",
     "text": [
      "Overwriting app.py\n"
     ]
    }
   ],
   "source": [
    "%%writefile app.py\n",
    "\n",
    "import pandas as pd\n",
    "import streamlit as st\n",
    "import regex as re\n",
    "\n",
    "df = pd.DataFrame()\n",
    "files = st.file_uploader('Upload', type='csv', accept_multiple_files=True)\n",
    "\n",
    "list_continentes = ['África','América Central','América do Norte', 'América do Sul', 'Ásia', 'Europa', 'Oriente Médio', 'Oceania']\n",
    "\n",
    "\n",
    "if files != []:\n",
    "    for file in files:\n",
    "        data = pd.read_csv(file)\n",
    "        #Primeiro obtive a identificação do ano, que está dentro de uma frase na terceira linha\n",
    "        line = data.iloc[1][0]\n",
    "        #Utilizo Regex para extrair o ano\n",
    "        Ano = re.findall(r'\\b(20[0-9][0-9])\\b', line)[0]   \n",
    "        #Depois trato o restante do arquivo para ficar no formato desejado    \n",
    "        data = data.iloc[4:]\n",
    "        data.iloc[0][0] = 'Pais'\n",
    "        data.columns = data.iloc[0]\n",
    "        data = data.drop(data.index[0])\n",
    "        data = data.dropna()\n",
    "        #Retiro a coluna e a linha de total\n",
    "        data = data[data['Pais'] != 'Total']\n",
    "        data = data.drop(columns='Total')\n",
    "        data['Ano'] = Ano\n",
    "\n",
    "        #Utilizei IA para criar a função que identifica o continente (Ps: Estou com muita dificuldade para criar funções lambda)\n",
    "        data['Continente'] = data['Pais'].apply(\n",
    "            lambda line: next((pais for pais in list_continentes if pais in line), None)\n",
    "        )\n",
    "        data['Continente'] = data['Continente'].fillna(method='ffill')\n",
    "\n",
    "        #Por fim, retiro as linhas que contém o total de cada continente, deixando apenas os países\n",
    "        data = data[~data['Pais'].isin(list_continentes)]\n",
    "\n",
    "        data = data.melt(id_vars=['Continente', 'Pais', 'Ano'], var_name='Mes', value_name='Qtd')\n",
    "\n",
    "        #Concateno em um dataframe, pois assim permito que o usuário faça a importação de diversos CSVs, um para cada ano\n",
    "        df = pd.concat([df, data])\n",
    "\n",
    "    #Crio a lista de continentes\n",
    "    list_cont = df['Continente'].drop_duplicates().tolist()\n",
    "    list_cont.append('Todos')\n",
    "\n",
    "    #Pego o id da opção \"Todos\"\n",
    "    default_cont = list_cont.index('Todos')\n",
    "\n",
    "    #Crio o filtro de continentes\n",
    "    filter_cont = st.selectbox('Filtrar Continentes', list_cont, index=default_cont)\n",
    "\n",
    "    #Aplico a condição para só filtrar se houver seleção\n",
    "    if filter_cont != 'Todos':\n",
    "        df = df.loc[df['Continente'] == filter_cont]\n",
    "\n",
    "    #Crio o filtro de colunas\n",
    "    list_colunas = st.multiselect('Selecione as colunas', df.columns, df.columns)\n",
    "    #Aplico o filtro\n",
    "    df = df[list_colunas]\n",
    "\n",
    "    #Mostro a tabela filtrada\n",
    "    st.write(df) \n",
    "\n",
    "    #Converto para CSV\n",
    "    csv = df.to_csv().encode(\"utf-8\")\n",
    "\n",
    "    #Crio botão para baixar o arquivo csv\n",
    "    st.download_button(\n",
    "        label=\"Baixar Dados\",\n",
    "        data=csv,\n",
    "        file_name=\"base.csv\",\n",
    "        mime=\"text/csv\",\n",
    "    )\n"
   ]
  },
  {
   "cell_type": "markdown",
   "metadata": {},
   "source": [
    "### 5. Utilizar Barra de Progresso e Spinners:\n",
    "Adicione uma barra de progresso e um spinner para indicar o carregamento dos dados enquanto o arquivo CSV é processado e exibido na interface."
   ]
  },
  {
   "cell_type": "markdown",
   "metadata": {},
   "source": [
    "### Adicionei o spinner na etapa de upload e a barra de progresso na etapa de download"
   ]
  },
  {
   "cell_type": "code",
   "execution_count": 245,
   "metadata": {},
   "outputs": [
    {
     "name": "stdout",
     "output_type": "stream",
     "text": [
      "Overwriting app.py\n"
     ]
    }
   ],
   "source": [
    "%%writefile app.py\n",
    "\n",
    "import pandas as pd\n",
    "import streamlit as st\n",
    "import regex as re\n",
    "import time\n",
    "\n",
    "my_bar = st.progress(0, text=\"Carregando o Aplicativo...\")\n",
    "for percent_complete in range(100):\n",
    "    time.sleep(0.01)\n",
    "    my_bar.progress(percent_complete + 1, text=\"Carregando o Aplicativo...\")\n",
    "time.sleep(1)\n",
    "my_bar.empty()\n",
    "\n",
    "df = pd.DataFrame()\n",
    "files = st.file_uploader('Upload', type='csv', accept_multiple_files=True)\n",
    "\n",
    "list_continentes = ['África','América Central','América do Norte', 'América do Sul', 'Ásia', 'Europa', 'Oriente Médio', 'Oceania']\n",
    "\n",
    "\n",
    "if files != []:\n",
    "    with st.spinner('Upload em andamento...'):\n",
    "        time.sleep(2)\n",
    "        st.success(\"Upload concluído!\")\n",
    "    for file in files:\n",
    "        data = pd.read_csv(file)\n",
    "        #Primeiro obtive a identificação do ano, que está dentro de uma frase na terceira linha\n",
    "        line = data.iloc[1][0]\n",
    "        #Utilizo Regex para extrair o ano\n",
    "        Ano = re.findall(r'\\b(20[0-9][0-9])\\b', line)[0]   \n",
    "        #Depois trato o restante do arquivo para ficar no formato desejado    \n",
    "        data = data.iloc[4:]\n",
    "        data.iloc[0][0] = 'Pais'\n",
    "        data.columns = data.iloc[0]\n",
    "        data = data.drop(data.index[0])\n",
    "        data = data.dropna()\n",
    "        #Retiro a coluna e a linha de total\n",
    "        data = data[data['Pais'] != 'Total']\n",
    "        data = data.drop(columns='Total')\n",
    "        data['Ano'] = Ano\n",
    "\n",
    "        #Utilizei IA para criar a função que identifica o continente (Ps: Estou com muita dificuldade para criar funções lambda)\n",
    "        data['Continente'] = data['Pais'].apply(\n",
    "            lambda line: next((pais for pais in list_continentes if pais in line), None)\n",
    "        )\n",
    "        data['Continente'] = data['Continente'].fillna(method='ffill')\n",
    "\n",
    "        #Por fim, retiro as linhas que contém o total de cada continente, deixando apenas os países\n",
    "        data = data[~data['Pais'].isin(list_continentes)]\n",
    "\n",
    "        data = data.melt(id_vars=['Continente', 'Pais', 'Ano'], var_name='Mes', value_name='Qtd')\n",
    "\n",
    "        #Concateno em um dataframe, pois assim permito que o usuário faça a importação de diversos CSVs, um para cada ano\n",
    "        df = pd.concat([df, data])\n",
    "\n",
    "    #Crio a lista de continentes\n",
    "    list_cont = df['Continente'].drop_duplicates().tolist()\n",
    "    list_cont.append('Todos')\n",
    "\n",
    "    #Pego o id da opção \"Todos\"\n",
    "    default_cont = list_cont.index('Todos')\n",
    "\n",
    "    #Crio o filtro de continentes\n",
    "    filter_cont = st.selectbox('Filtrar Continentes', list_cont, index=default_cont)\n",
    "\n",
    "    #Aplico a condição para só filtrar se houver seleção\n",
    "    if filter_cont != 'Todos':\n",
    "        df = df.loc[df['Continente'] == filter_cont]\n",
    "\n",
    "    #Crio o filtro de colunas\n",
    "    list_colunas = st.multiselect('Selecione as colunas', df.columns, df.columns)\n",
    "    #Aplico o filtro\n",
    "    df = df[list_colunas]\n",
    "\n",
    "    #Mostro a tabela filtrada\n",
    "    st.write(df) \n",
    "\n",
    "    #Converto para CSV\n",
    "    csv = df.to_csv().encode(\"utf-8\")\n",
    "\n",
    "    #Crio botão para baixar o arquivo csv\n",
    "    st.download_button(\n",
    "        label=\"Baixar Dados\",\n",
    "        data=csv,\n",
    "        file_name=\"base.csv\",\n",
    "        mime=\"text/csv\",\n",
    "    )\n",
    "\n",
    "    "
   ]
  },
  {
   "cell_type": "markdown",
   "metadata": {},
   "source": [
    "### 6. Utilizar Color Picker:\n",
    "Adicione um color picker à interface que permita ao usuário personalizar a cor de fundo do painel e das fontes exibidas na aplicação."
   ]
  },
  {
   "cell_type": "code",
   "execution_count": null,
   "metadata": {},
   "outputs": [],
   "source": []
  },
  {
   "cell_type": "markdown",
   "metadata": {},
   "source": [
    "### 7. Utilizar Funcionalidade de Cache:\n",
    "Utilize a funcionalidade de cache do Streamlit para armazenar os dados carregados de grandes arquivos CSV, evitando a necessidade de recarregá-los a cada nova interação."
   ]
  },
  {
   "cell_type": "code",
   "execution_count": null,
   "metadata": {},
   "outputs": [],
   "source": []
  },
  {
   "cell_type": "markdown",
   "metadata": {},
   "source": [
    "### 8. Persistir Dados Usando Session State:\n",
    "Implemente a persistência de dados na aplicação utilizando Session State para manter as preferências do usuário (como filtros e seleções) durante a navegação."
   ]
  },
  {
   "cell_type": "code",
   "execution_count": null,
   "metadata": {},
   "outputs": [],
   "source": []
  },
  {
   "cell_type": "markdown",
   "metadata": {},
   "source": [
    "### 9. Criar Visualizações de Dados - Tabelas:\n",
    "Crie uma tabela interativa que exiba os dados carregados e permita ao usuário ordenar e filtrar as colunas diretamente pela interface."
   ]
  },
  {
   "cell_type": "code",
   "execution_count": null,
   "metadata": {},
   "outputs": [],
   "source": []
  },
  {
   "cell_type": "markdown",
   "metadata": {},
   "source": [
    "### 10. Criar Visualizações de Dados - Gráficos Simples:\n",
    "Desenvolva gráficos simples (como barras, linhas, e pie charts) para visualização dos dados carregados, utilizando o Streamlit."
   ]
  },
  {
   "cell_type": "code",
   "execution_count": null,
   "metadata": {},
   "outputs": [],
   "source": []
  },
  {
   "cell_type": "markdown",
   "metadata": {},
   "source": [
    "### 11. Criar Visualizações de Dados - Gráficos Avançados:\n",
    "Adicione gráficos mais avançados (como histograma ou scatter plot) para fornecer insights mais profundos sobre os dados."
   ]
  },
  {
   "cell_type": "code",
   "execution_count": null,
   "metadata": {},
   "outputs": [],
   "source": []
  },
  {
   "cell_type": "markdown",
   "metadata": {},
   "source": [
    "### 12. Exibir Métricas Básicas:\n",
    "Implemente a exibição de métricas básicas (como contagem de registros, médias, somas) diretamente na interface para fornecer um resumo rápido dos dados carregados."
   ]
  },
  {
   "cell_type": "code",
   "execution_count": null,
   "metadata": {},
   "outputs": [],
   "source": []
  }
 ],
 "metadata": {
  "kernelspec": {
   "display_name": "Python 3",
   "language": "python",
   "name": "python3"
  },
  "language_info": {
   "codemirror_mode": {
    "name": "ipython",
    "version": 3
   },
   "file_extension": ".py",
   "mimetype": "text/x-python",
   "name": "python",
   "nbconvert_exporter": "python",
   "pygments_lexer": "ipython3",
   "version": "3.11.3"
  }
 },
 "nbformat": 4,
 "nbformat_minor": 2
}
