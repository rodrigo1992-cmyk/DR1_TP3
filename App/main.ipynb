{
 "cells": [
  {
   "cell_type": "markdown",
   "metadata": {},
   "source": []
  },
  {
   "cell_type": "markdown",
   "metadata": {},
   "source": [
    "streamlit run app.py --server.port=8086 --browser.serverAddress='177.192.12.238'"
   ]
  },
  {
   "cell_type": "markdown",
   "metadata": {},
   "source": [
    "### 1. Explicação do Objetivo e Motivação:\n",
    "Explique o objetivo do dashboard que você está desenvolvendo e a motivação por trás da escolha dos dados e funcionalidades que serão implementados."
   ]
  },
  {
   "cell_type": "markdown",
   "metadata": {},
   "source": [
    "Base: Chegada mensal de turistas pelo Rio de Janeiro, por via Aérea, segundo continentes e países de residência permanente, entre 2006-2019\n",
    "Disponível em: https://www.data.rio/documents/a6c6c3ff7d1947a99648494e0745046d/about\n",
    "\n",
    "- Objetivo: Apresentar a dados de turismo no Rio de Janeiro.\n",
    "- Motivador: Conseguir identificar o crescimento ou redução da quantidade de turistas de acordo com o país de origem.\n",
    "- Funcionalidades: \n",
    "    - Filtros por período, continente e país\n",
    "    - Gráfico de linha exibindo tendências\n",
    "    - Gráfico de pizza com número de turistas por continente\n",
    "    - Gráfico de pareto com número absoluto de turistas por país\n",
    "    - Histograma por mês\n",
    "    - Mapa de calor por mês e país\n",
    "    - Mapa de rotas"
   ]
  },
  {
   "cell_type": "markdown",
   "metadata": {},
   "source": [
    "### 2. Realizar Upload de Arquivo CSV:\n",
    "Crie uma interface em Streamlit que permita ao usuário fazer o upload de um arquivo CSV contendo dados de turismo do portal Data.Rio."
   ]
  },
  {
   "cell_type": "code",
   "execution_count": 156,
   "metadata": {},
   "outputs": [
    {
     "name": "stdout",
     "output_type": "stream",
     "text": [
      "Overwriting app.py\n"
     ]
    }
   ],
   "source": [
    "%%writefile app.py\n",
    "\n",
    "import pandas as pd\n",
    "import streamlit as st\n",
    "import regex as re\n",
    "\n",
    "df = pd.DataFrame()\n",
    "files = st.file_uploader('Upload', type='csv', accept_multiple_files=True)\n",
    "\n",
    "list_continentes = ['África','América Central','América do Norte', 'América do Sul', 'Ásia', 'Europa', 'Oriente Médio', 'Oceania']\n",
    "\n",
    "\n",
    "if files is not None:\n",
    "    for file in files:\n",
    "        data = pd.read_csv(file)\n",
    "        line = data.iloc[1][0]\n",
    "        st.write(line)\n",
    "        year = re.findall(r'\\b(20[0-9][0-9])\\b', line)[0]       \n",
    "        st.write(year) \n",
    "        data = data.iloc[4:]\n",
    "        data.iloc[0][0] = 'Pais'\n",
    "        data.columns = data.iloc[0]\n",
    "        data = data.drop(data.index[0])\n",
    "        data = data.dropna()\n",
    "        data = data[data['Pais'] != 'Total']\n",
    "        data = data.drop(columns='Total')\n",
    "        data['Year'] = year\n",
    "        data['Continente'] = data['Pais'].apply(lambda line: [continente for continente in list_continentes if continente in line])\n",
    "        df = pd.concat([df, data])\n",
    "\n",
    "st.write(df)"
   ]
  },
  {
   "cell_type": "code",
   "execution_count": 128,
   "metadata": {},
   "outputs": [
    {
     "data": {
      "text/html": [
       "<div>\n",
       "<style scoped>\n",
       "    .dataframe tbody tr th:only-of-type {\n",
       "        vertical-align: middle;\n",
       "    }\n",
       "\n",
       "    .dataframe tbody tr th {\n",
       "        vertical-align: top;\n",
       "    }\n",
       "\n",
       "    .dataframe thead th {\n",
       "        text-align: right;\n",
       "    }\n",
       "</style>\n",
       "<table border=\"1\" class=\"dataframe\">\n",
       "  <thead>\n",
       "    <tr style=\"text-align: right;\">\n",
       "      <th></th>\n",
       "      <th>Data.Rio</th>\n",
       "      <th>Unnamed: 1</th>\n",
       "      <th>Unnamed: 2</th>\n",
       "      <th>Unnamed: 3</th>\n",
       "      <th>Unnamed: 4</th>\n",
       "      <th>Unnamed: 5</th>\n",
       "      <th>Unnamed: 6</th>\n",
       "      <th>Unnamed: 7</th>\n",
       "      <th>Unnamed: 8</th>\n",
       "      <th>Unnamed: 9</th>\n",
       "      <th>Unnamed: 10</th>\n",
       "      <th>Unnamed: 11</th>\n",
       "      <th>Unnamed: 12</th>\n",
       "      <th>Unnamed: 13</th>\n",
       "    </tr>\n",
       "  </thead>\n",
       "  <tbody>\n",
       "    <tr>\n",
       "      <th>6</th>\n",
       "      <td>Total</td>\n",
       "      <td>757 918</td>\n",
       "      <td>97 406</td>\n",
       "      <td>92 752</td>\n",
       "      <td>78 138</td>\n",
       "      <td>60 947</td>\n",
       "      <td>52 938</td>\n",
       "      <td>50 480</td>\n",
       "      <td>52 216</td>\n",
       "      <td>47 019</td>\n",
       "      <td>45 642</td>\n",
       "      <td>51 692</td>\n",
       "      <td>59 871</td>\n",
       "      <td>68 817</td>\n",
       "    </tr>\n",
       "    <tr>\n",
       "      <th>7</th>\n",
       "      <td>África</td>\n",
       "      <td>29 041</td>\n",
       "      <td>2 436</td>\n",
       "      <td>1 848</td>\n",
       "      <td>1 927</td>\n",
       "      <td>1 802</td>\n",
       "      <td>1 529</td>\n",
       "      <td>1 825</td>\n",
       "      <td>1 882</td>\n",
       "      <td>4 560</td>\n",
       "      <td>2 323</td>\n",
       "      <td>3 468</td>\n",
       "      <td>2 714</td>\n",
       "      <td>2 727</td>\n",
       "    </tr>\n",
       "    <tr>\n",
       "      <th>8</th>\n",
       "      <td>África do Sul</td>\n",
       "      <td>3 012</td>\n",
       "      <td>363</td>\n",
       "      <td>203</td>\n",
       "      <td>103</td>\n",
       "      <td>85</td>\n",
       "      <td>38</td>\n",
       "      <td>442</td>\n",
       "      <td>474</td>\n",
       "      <td>323</td>\n",
       "      <td>488</td>\n",
       "      <td>151</td>\n",
       "      <td>227</td>\n",
       "      <td>115</td>\n",
       "    </tr>\n",
       "    <tr>\n",
       "      <th>9</th>\n",
       "      <td>Angola</td>\n",
       "      <td>21 606</td>\n",
       "      <td>1 639</td>\n",
       "      <td>1 113</td>\n",
       "      <td>1 208</td>\n",
       "      <td>1 501</td>\n",
       "      <td>940</td>\n",
       "      <td>966</td>\n",
       "      <td>1 037</td>\n",
       "      <td>3 910</td>\n",
       "      <td>1 528</td>\n",
       "      <td>3 052</td>\n",
       "      <td>2 299</td>\n",
       "      <td>2 413</td>\n",
       "    </tr>\n",
       "    <tr>\n",
       "      <th>10</th>\n",
       "      <td>Cabo Verde</td>\n",
       "      <td>2 407</td>\n",
       "      <td>221</td>\n",
       "      <td>286</td>\n",
       "      <td>212</td>\n",
       "      <td>103</td>\n",
       "      <td>301</td>\n",
       "      <td>326</td>\n",
       "      <td>274</td>\n",
       "      <td>187</td>\n",
       "      <td>153</td>\n",
       "      <td>115</td>\n",
       "      <td>106</td>\n",
       "      <td>123</td>\n",
       "    </tr>\n",
       "    <tr>\n",
       "      <th>...</th>\n",
       "      <td>...</td>\n",
       "      <td>...</td>\n",
       "      <td>...</td>\n",
       "      <td>...</td>\n",
       "      <td>...</td>\n",
       "      <td>...</td>\n",
       "      <td>...</td>\n",
       "      <td>...</td>\n",
       "      <td>...</td>\n",
       "      <td>...</td>\n",
       "      <td>...</td>\n",
       "      <td>...</td>\n",
       "      <td>...</td>\n",
       "      <td>...</td>\n",
       "    </tr>\n",
       "    <tr>\n",
       "      <th>64</th>\n",
       "      <td>Arábia Saudita</td>\n",
       "      <td>81</td>\n",
       "      <td>-</td>\n",
       "      <td>-</td>\n",
       "      <td>-</td>\n",
       "      <td>-</td>\n",
       "      <td>1</td>\n",
       "      <td>4</td>\n",
       "      <td>4</td>\n",
       "      <td>27</td>\n",
       "      <td>-</td>\n",
       "      <td>42</td>\n",
       "      <td>-</td>\n",
       "      <td>3</td>\n",
       "    </tr>\n",
       "    <tr>\n",
       "      <th>65</th>\n",
       "      <td>Iraque</td>\n",
       "      <td>13</td>\n",
       "      <td>3</td>\n",
       "      <td>10</td>\n",
       "      <td>-</td>\n",
       "      <td>-</td>\n",
       "      <td>-</td>\n",
       "      <td>-</td>\n",
       "      <td>-</td>\n",
       "      <td>-</td>\n",
       "      <td>-</td>\n",
       "      <td>-</td>\n",
       "      <td>-</td>\n",
       "      <td>-</td>\n",
       "    </tr>\n",
       "    <tr>\n",
       "      <th>66</th>\n",
       "      <td>Israel</td>\n",
       "      <td>6 142</td>\n",
       "      <td>345</td>\n",
       "      <td>1 431</td>\n",
       "      <td>481</td>\n",
       "      <td>335</td>\n",
       "      <td>922</td>\n",
       "      <td>185</td>\n",
       "      <td>198</td>\n",
       "      <td>367</td>\n",
       "      <td>1 342</td>\n",
       "      <td>186</td>\n",
       "      <td>173</td>\n",
       "      <td>177</td>\n",
       "    </tr>\n",
       "    <tr>\n",
       "      <th>67</th>\n",
       "      <td>Outros</td>\n",
       "      <td>1 158</td>\n",
       "      <td>58</td>\n",
       "      <td>113</td>\n",
       "      <td>172</td>\n",
       "      <td>28</td>\n",
       "      <td>5</td>\n",
       "      <td>140</td>\n",
       "      <td>150</td>\n",
       "      <td>108</td>\n",
       "      <td>10</td>\n",
       "      <td>129</td>\n",
       "      <td>132</td>\n",
       "      <td>113</td>\n",
       "    </tr>\n",
       "    <tr>\n",
       "      <th>68</th>\n",
       "      <td>Países não especificados</td>\n",
       "      <td>84</td>\n",
       "      <td>-</td>\n",
       "      <td>8</td>\n",
       "      <td>3</td>\n",
       "      <td>1</td>\n",
       "      <td>20</td>\n",
       "      <td>-</td>\n",
       "      <td>-</td>\n",
       "      <td>10</td>\n",
       "      <td>-</td>\n",
       "      <td>42</td>\n",
       "      <td>-</td>\n",
       "      <td>-</td>\n",
       "    </tr>\n",
       "  </tbody>\n",
       "</table>\n",
       "<p>63 rows × 14 columns</p>\n",
       "</div>"
      ],
      "text/plain": [
       "                    Data.Rio Unnamed: 1 Unnamed: 2 Unnamed: 3 Unnamed: 4  \\\n",
       "6                      Total    757 918     97 406     92 752     78 138   \n",
       "7                     África     29 041      2 436      1 848      1 927   \n",
       "8              África do Sul      3 012        363        203        103   \n",
       "9                     Angola     21 606      1 639      1 113      1 208   \n",
       "10                Cabo Verde      2 407        221        286        212   \n",
       "..                       ...        ...        ...        ...        ...   \n",
       "64            Arábia Saudita         81          -          -          -   \n",
       "65                    Iraque         13          3         10          -   \n",
       "66                    Israel      6 142        345      1 431        481   \n",
       "67                    Outros      1 158         58        113        172   \n",
       "68  Países não especificados         84          -          8          3   \n",
       "\n",
       "   Unnamed: 5 Unnamed: 6 Unnamed: 7 Unnamed: 8 Unnamed: 9 Unnamed: 10  \\\n",
       "6      60 947     52 938     50 480     52 216     47 019      45 642   \n",
       "7       1 802      1 529      1 825      1 882      4 560       2 323   \n",
       "8          85         38        442        474        323         488   \n",
       "9       1 501        940        966      1 037      3 910       1 528   \n",
       "10        103        301        326        274        187         153   \n",
       "..        ...        ...        ...        ...        ...         ...   \n",
       "64          -          1          4          4         27           -   \n",
       "65          -          -          -          -          -           -   \n",
       "66        335        922        185        198        367       1 342   \n",
       "67         28          5        140        150        108          10   \n",
       "68          1         20          -          -         10           -   \n",
       "\n",
       "   Unnamed: 11 Unnamed: 12 Unnamed: 13  \n",
       "6       51 692      59 871      68 817  \n",
       "7        3 468       2 714       2 727  \n",
       "8          151         227         115  \n",
       "9        3 052       2 299       2 413  \n",
       "10         115         106         123  \n",
       "..         ...         ...         ...  \n",
       "64          42           -           3  \n",
       "65           -           -           -  \n",
       "66         186         173         177  \n",
       "67         129         132         113  \n",
       "68          42           -           -  \n",
       "\n",
       "[63 rows x 14 columns]"
      ]
     },
     "execution_count": 128,
     "metadata": {},
     "output_type": "execute_result"
    }
   ],
   "source": [
    "\n",
    "\n",
    "import pandas as pd\n",
    "import streamlit as st\n",
    "import regex as re\n",
    "\n",
    "df = pd.DataFrame()\n",
    "\n",
    "\n",
    "data = pd.read_csv(r'C:\\Users\\RodrigoPintoMesquita\\Documents\\GitHub\\DR1_TP3\\Data\\csv_exemplo.csv')\n",
    "line = data.iloc[1][0]\n",
    "year = re.findall(r'\\b(20[0-9][0-9])\\b', line)[0]       \n",
    "\n",
    "data = data.dropna()\n",
    "data"
   ]
  },
  {
   "cell_type": "markdown",
   "metadata": {},
   "source": [
    "### 3. Filtro de Dados e Seleção:\n",
    "Implemente seletores (radio, checkbox, dropdowns) na interface que permitam ao usuário filtrar os dados carregados e selecionar as colunas ou linhas que deseja visualizar."
   ]
  },
  {
   "cell_type": "code",
   "execution_count": null,
   "metadata": {},
   "outputs": [],
   "source": []
  },
  {
   "cell_type": "markdown",
   "metadata": {},
   "source": [
    "### 4. esenvolver Serviço de Download de Arquivos:\n",
    "Implemente um serviço que permita ao usuário fazer o download dos dados filtrados em formato CSV diretamente pela interface da aplicação."
   ]
  },
  {
   "cell_type": "code",
   "execution_count": null,
   "metadata": {},
   "outputs": [],
   "source": []
  },
  {
   "cell_type": "markdown",
   "metadata": {},
   "source": [
    "### 5. Utilizar Barra de Progresso e Spinners:\n",
    "Adicione uma barra de progresso e um spinner para indicar o carregamento dos dados enquanto o arquivo CSV é processado e exibido na interface."
   ]
  },
  {
   "cell_type": "code",
   "execution_count": null,
   "metadata": {},
   "outputs": [],
   "source": []
  },
  {
   "cell_type": "markdown",
   "metadata": {},
   "source": [
    "### 6. Utilizar Color Picker:\n",
    "Adicione um color picker à interface que permita ao usuário personalizar a cor de fundo do painel e das fontes exibidas na aplicação."
   ]
  },
  {
   "cell_type": "code",
   "execution_count": null,
   "metadata": {},
   "outputs": [],
   "source": []
  },
  {
   "cell_type": "markdown",
   "metadata": {},
   "source": [
    "### 7. Utilizar Funcionalidade de Cache:\n",
    "Utilize a funcionalidade de cache do Streamlit para armazenar os dados carregados de grandes arquivos CSV, evitando a necessidade de recarregá-los a cada nova interação."
   ]
  },
  {
   "cell_type": "code",
   "execution_count": null,
   "metadata": {},
   "outputs": [],
   "source": []
  },
  {
   "cell_type": "markdown",
   "metadata": {},
   "source": [
    "### 8. Persistir Dados Usando Session State:\n",
    "Implemente a persistência de dados na aplicação utilizando Session State para manter as preferências do usuário (como filtros e seleções) durante a navegação."
   ]
  },
  {
   "cell_type": "code",
   "execution_count": null,
   "metadata": {},
   "outputs": [],
   "source": []
  },
  {
   "cell_type": "markdown",
   "metadata": {},
   "source": [
    "### 9. Criar Visualizações de Dados - Tabelas:\n",
    "Crie uma tabela interativa que exiba os dados carregados e permita ao usuário ordenar e filtrar as colunas diretamente pela interface."
   ]
  },
  {
   "cell_type": "code",
   "execution_count": null,
   "metadata": {},
   "outputs": [],
   "source": []
  },
  {
   "cell_type": "markdown",
   "metadata": {},
   "source": [
    "### 10. Criar Visualizações de Dados - Gráficos Simples:\n",
    "Desenvolva gráficos simples (como barras, linhas, e pie charts) para visualização dos dados carregados, utilizando o Streamlit."
   ]
  },
  {
   "cell_type": "code",
   "execution_count": null,
   "metadata": {},
   "outputs": [],
   "source": []
  },
  {
   "cell_type": "markdown",
   "metadata": {},
   "source": [
    "### 11. Criar Visualizações de Dados - Gráficos Avançados:\n",
    "Adicione gráficos mais avançados (como histograma ou scatter plot) para fornecer insights mais profundos sobre os dados."
   ]
  },
  {
   "cell_type": "code",
   "execution_count": null,
   "metadata": {},
   "outputs": [],
   "source": []
  },
  {
   "cell_type": "markdown",
   "metadata": {},
   "source": [
    "### 12. Exibir Métricas Básicas:\n",
    "Implemente a exibição de métricas básicas (como contagem de registros, médias, somas) diretamente na interface para fornecer um resumo rápido dos dados carregados."
   ]
  },
  {
   "cell_type": "code",
   "execution_count": null,
   "metadata": {},
   "outputs": [],
   "source": []
  }
 ],
 "metadata": {
  "kernelspec": {
   "display_name": "Python 3",
   "language": "python",
   "name": "python3"
  },
  "language_info": {
   "codemirror_mode": {
    "name": "ipython",
    "version": 3
   },
   "file_extension": ".py",
   "mimetype": "text/x-python",
   "name": "python",
   "nbconvert_exporter": "python",
   "pygments_lexer": "ipython3",
   "version": "3.11.3"
  }
 },
 "nbformat": 4,
 "nbformat_minor": 2
}
